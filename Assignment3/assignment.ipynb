{
 "cells": [
  {
   "cell_type": "markdown",
   "metadata": {},
   "source": [
    "# Assignment 03\n",
    "\n",
    "# Name: Fakhar Ali Khan\n",
    "\n",
    "# Roll NO:PIAIC74208"
   ]
  },
  {
   "cell_type": "code",
   "execution_count": 2,
   "metadata": {},
   "outputs": [
    {
     "name": "stdout",
     "output_type": "stream",
     "text": [
      "enter first number:3\n",
      "enter second number:4\n",
      "updated dictionary is:\n",
      "{3: 4}\n"
     ]
    }
   ],
   "source": [
    "#Task 1\n",
    "a = int(input(\"enter first number:\" ))\n",
    "b = int(input(\"enter second number:\"))\n",
    "d = {}\n",
    "d.update({a:b})\n",
    "print(\"updated dictionary is:\")\n",
    "print(d)"
   ]
  },
  {
   "cell_type": "code",
   "execution_count": 3,
   "metadata": {},
   "outputs": [
    {
     "name": "stdout",
     "output_type": "stream",
     "text": [
      " Concatenate dictionary is:\n",
      "{'A': 2, 'B': 6, 'X': 5, 'Y': 9}\n"
     ]
    }
   ],
   "source": [
    "#Task 2\n",
    "d1 = {'A':2, 'B':6}\n",
    "d2 = {'X':5, 'Y':9}\n",
    "d1.update(d2)\n",
    "print(\" Concatenate dictionary is:\")\n",
    "print(d1)"
   ]
  },
  {
   "cell_type": "code",
   "execution_count": 6,
   "metadata": {},
   "outputs": [
    {
     "name": "stdout",
     "output_type": "stream",
     "text": [
      "Enter key to check:B\n",
      "key is present and the value of key is:\n",
      "2\n"
     ]
    }
   ],
   "source": [
    "#Task 3\n",
    "d = {\"A\":1 , \"B\":2 , \"C\":3}\n",
    "key = input(\"Enter key to check:\")\n",
    "if key in d.keys():\n",
    "    print(\"key is present and the value of key is:\")\n",
    "    print(d[key])\n",
    "else:\n",
    "    print(\"key isn't present in the dictionary:\")"
   ]
  },
  {
   "cell_type": "code",
   "execution_count": 7,
   "metadata": {},
   "outputs": [
    {
     "name": "stdout",
     "output_type": "stream",
     "text": [
      "Enter a number5\n",
      "{1: 1, 2: 4, 3: 9, 4: 16, 5: 25}\n"
     ]
    }
   ],
   "source": [
    "#Task 4\n",
    "n = int(input(\"Enter a number\"))\n",
    "\n",
    "dict1 = { i: i*i for i in range(1, n+1)}\n",
    "\n",
    "print(dict1)"
   ]
  },
  {
   "cell_type": "code",
   "execution_count": 9,
   "metadata": {},
   "outputs": [
    {
     "name": "stdout",
     "output_type": "stream",
     "text": [
      "Total sum of values in the dictionary:\n",
      "89\n"
     ]
    }
   ],
   "source": [
    "#Task 5\n",
    "d={'A':10,'B':50,'C':29}\n",
    "print(\"Total sum of values in the dictionary:\")\n",
    "print(sum(d.values()))"
   ]
  },
  {
   "cell_type": "code",
   "execution_count": 10,
   "metadata": {},
   "outputs": [
    {
     "name": "stdout",
     "output_type": "stream",
     "text": [
      "6\n",
      "30\n",
      "240\n",
      "480\n"
     ]
    }
   ],
   "source": [
    "#Task 6\n",
    "d={'A':3,'B':5,'C':8,'D':2}\n",
    "multiplication = 2\n",
    "\n",
    "for val in d.values():\n",
    "    multiplication *= val\n",
    "   \n",
    "    print(multiplication)"
   ]
  },
  {
   "cell_type": "code",
   "execution_count": 11,
   "metadata": {},
   "outputs": [
    {
     "name": "stdout",
     "output_type": "stream",
     "text": [
      "Initial dictionary\n",
      "{'a': 1, 'b': 2, 'c': 3, 'd': 4}\n",
      "Enter the key to delete(a-d):b\n",
      "Updated dictionary\n",
      "{'a': 1, 'c': 3, 'd': 4}\n"
     ]
    }
   ],
   "source": [
    "#Task 7\n",
    "\n",
    "d = {'a':1,'b':2,'c':3,'d':4}\n",
    "print(\"Initial dictionary\")\n",
    "print(d)\n",
    "key=input(\"Enter the key to delete(a-d):\")\n",
    "if key in d: \n",
    "    del d[key]\n",
    "else:\n",
    "    print(\"Key not found!\")\n",
    "    exit(0)\n",
    "print(\"Updated dictionary\")\n",
    "print(d)"
   ]
  },
  {
   "cell_type": "code",
   "execution_count": 12,
   "metadata": {},
   "outputs": [
    {
     "name": "stdout",
     "output_type": "stream",
     "text": [
      "Enter number of elements for dictionary:3\n",
      "For keys:\n",
      "Enter element1:1\n",
      "Enter element2:2\n",
      "Enter element3:3\n",
      "For values:\n",
      "Enter element1:4\n",
      "Enter element2:5\n",
      "Enter element3:6\n",
      "The dictionary is:\n",
      "{1: 4, 2: 5, 3: 6}\n"
     ]
    }
   ],
   "source": [
    "#Task 8\n",
    "keys=[]\n",
    "values=[]\n",
    "n=int(input(\"Enter number of elements for dictionary:\"))\n",
    "print(\"For keys:\")\n",
    "for x in range(0,n):\n",
    "    element=int(input(\"Enter element\" + str(x+1) + \":\"))\n",
    "    keys.append(element)\n",
    "print(\"For values:\")\n",
    "for x in range(0,n):\n",
    "    element=int(input(\"Enter element\" + str(x+1) + \":\"))\n",
    "    values.append(element)\n",
    "d=dict(zip(keys,values))\n",
    "print(\"The dictionary is:\")\n",
    "print(d)"
   ]
  },
  {
   "cell_type": "code",
   "execution_count": 13,
   "metadata": {},
   "outputs": [
    {
     "name": "stdout",
     "output_type": "stream",
     "text": [
      "Enter string:pakistan\n",
      "{'pakistan': 1}\n"
     ]
    }
   ],
   "source": [
    "#Task 9\n",
    "\n",
    "test_string=input(\"Enter string:\")\n",
    "l=[]\n",
    "l=test_string.split()\n",
    "wordfreq=[l.count(p) for p in l]\n",
    "print(dict(zip(l,wordfreq)))"
   ]
  },
  {
   "cell_type": "code",
   "execution_count": 14,
   "metadata": {},
   "outputs": [
    {
     "name": "stdout",
     "output_type": "stream",
     "text": [
      "Enter string:sardar fakhar ali\n",
      "s : ['sardar']\n",
      "f : ['fakhar']\n",
      "a : ['ali']\n"
     ]
    }
   ],
   "source": [
    "#Task 10\n",
    "test_string=input(\"Enter string:\")\n",
    "l=test_string.split()\n",
    "d={}\n",
    "for word in l:\n",
    "    if(word[0] not in d.keys()):\n",
    "        d[word[0]]=[]\n",
    "        d[word[0]].append(word)\n",
    "    else:\n",
    "        if(word not in d[word[0]]):\n",
    "          d[word[0]].append(word)\n",
    "for k,v in d.items():\n",
    "        print(k,\":\",v)"
   ]
  },
  {
   "cell_type": "code",
   "execution_count": null,
   "metadata": {},
   "outputs": [],
   "source": []
  }
 ],
 "metadata": {
  "kernelspec": {
   "display_name": "Python 3",
   "language": "python",
   "name": "python3"
  },
  "language_info": {
   "codemirror_mode": {
    "name": "ipython",
    "version": 3
   },
   "file_extension": ".py",
   "mimetype": "text/x-python",
   "name": "python",
   "nbconvert_exporter": "python",
   "pygments_lexer": "ipython3",
   "version": "3.7.4"
  }
 },
 "nbformat": 4,
 "nbformat_minor": 2
}
